{
 "cells": [
  {
   "cell_type": "code",
   "execution_count": 1,
   "metadata": {},
   "outputs": [],
   "source": [
    "import logging"
   ]
  },
  {
   "cell_type": "code",
   "execution_count": 2,
   "metadata": {},
   "outputs": [],
   "source": [
    "from pyutility.decorators import (debugger as pyutility_debugger,\n",
    "                                  timeit as pyutility_timeit,\n",
    "                                  FunctionCounter as pyutiltiy_function_counter, FunctionCounter)"
   ]
  },
  {
   "cell_type": "code",
   "execution_count": 3,
   "metadata": {},
   "outputs": [],
   "source": [
    "logging.basicConfig(level=logging.INFO)\n",
    "\n",
    "logger = logging.getLogger(\"Test\")"
   ]
  },
  {
   "attachments": {},
   "cell_type": "markdown",
   "metadata": {},
   "source": [
    "### @timeit\n",
    "\n",
    "It allows you to pass print or logger instance as deorator argument and print or logs the run time of function."
   ]
  },
  {
   "cell_type": "code",
   "execution_count": 4,
   "metadata": {},
   "outputs": [],
   "source": [
    "@pyutility_timeit(logger)\n",
    "def hello_name1(name: str):\n",
    "    print(f\"Hello! {name}\")"
   ]
  },
  {
   "cell_type": "code",
   "execution_count": 5,
   "metadata": {},
   "outputs": [
    {
     "name": "stderr",
     "output_type": "stream",
     "text": [
      "INFO:Test:Started execution of hello_name1 function\n",
      "INFO:Test:Finished execution of hello_name1 function, runtime: 0.0005743503570556641 seconds\n"
     ]
    },
    {
     "name": "stdout",
     "output_type": "stream",
     "text": [
      "Hello! Jamseet\n"
     ]
    }
   ],
   "source": [
    "hello_name1(\"Jamseet\")"
   ]
  },
  {
   "cell_type": "code",
   "execution_count": 6,
   "metadata": {},
   "outputs": [],
   "source": [
    "@pyutility_timeit(print)\n",
    "def hello_name2(name: str):\n",
    "    print(f\"Hello! {name}\")"
   ]
  },
  {
   "cell_type": "code",
   "execution_count": 7,
   "metadata": {},
   "outputs": [
    {
     "name": "stdout",
     "output_type": "stream",
     "text": [
      "Started execution of hello_name2 function\n",
      "Hello! Jamseet\n",
      "Finished execution of hello_name2 function, runtime: 1.52587890625e-05 seconds\n"
     ]
    }
   ],
   "source": [
    "hello_name2(\"Jamseet\")"
   ]
  },
  {
   "attachments": {},
   "cell_type": "markdown",
   "metadata": {},
   "source": [
    "### @debugger\n",
    "\n",
    "This also takes print or logger instance as decorator argument and prints or logs the argument passed to funtion along wiht result."
   ]
  },
  {
   "cell_type": "code",
   "execution_count": 8,
   "metadata": {},
   "outputs": [],
   "source": [
    "@pyutility_debugger(print)\n",
    "def addition1(a: int, b:int) -> int:\n",
    "    return a + b"
   ]
  },
  {
   "cell_type": "code",
   "execution_count": 9,
   "metadata": {},
   "outputs": [],
   "source": [
    "@pyutility_debugger(logger)\n",
    "def addition2(a: int, b:int) -> int:\n",
    "    return a + b"
   ]
  },
  {
   "attachments": {},
   "cell_type": "markdown",
   "metadata": {},
   "source": [
    "### @function_counter\n",
    "\n",
    "This helps you to store counter for no. of times a call is made for different funcitons that are decorated wiht this decorator."
   ]
  },
  {
   "cell_type": "code",
   "execution_count": 10,
   "metadata": {},
   "outputs": [
    {
     "name": "stdout",
     "output_type": "stream",
     "text": [
      "Calling addition1(1, 2)\n",
      "'addition1' returned 3\n"
     ]
    },
    {
     "data": {
      "text/plain": [
       "3"
      ]
     },
     "execution_count": 10,
     "metadata": {},
     "output_type": "execute_result"
    }
   ],
   "source": [
    "addition1(1, 2)\n",
    "addition2(1, 2)"
   ]
  },
  {
   "cell_type": "code",
   "execution_count": 11,
   "metadata": {},
   "outputs": [],
   "source": [
    "@pyutiltiy_function_counter\n",
    "def addition3(a: int, b:int) -> int:\n",
    "    return a + b\n",
    "\n",
    "@pyutiltiy_function_counter\n",
    "def hello_name3(name: str):\n",
    "    print(f\"Hello! {name}\")"
   ]
  },
  {
   "cell_type": "code",
   "execution_count": 12,
   "metadata": {},
   "outputs": [
    {
     "name": "stdout",
     "output_type": "stream",
     "text": [
      "Hello! Jasmeet\n"
     ]
    }
   ],
   "source": [
    "addition3(2, 3)\n",
    "addition3(4, 4)\n",
    "hello_name3(\"Jasmeet\")"
   ]
  },
  {
   "attachments": {},
   "cell_type": "markdown",
   "metadata": {},
   "source": [
    "To get the counter dictionary"
   ]
  },
  {
   "cell_type": "code",
   "execution_count": 13,
   "metadata": {},
   "outputs": [
    {
     "data": {
      "text/plain": [
       "{'addition3': 2, 'hello_name3': 1}"
      ]
     },
     "execution_count": 13,
     "metadata": {},
     "output_type": "execute_result"
    }
   ],
   "source": [
    "FunctionCounter.get_counts()"
   ]
  },
  {
   "cell_type": "code",
   "execution_count": null,
   "metadata": {},
   "outputs": [],
   "source": []
  }
 ],
 "metadata": {
  "kernelspec": {
   "display_name": "pyutility-bAk8k3AI-py3.10",
   "language": "python",
   "name": "python3"
  },
  "language_info": {
   "codemirror_mode": {
    "name": "ipython",
    "version": 3
   },
   "file_extension": ".py",
   "mimetype": "text/x-python",
   "name": "python",
   "nbconvert_exporter": "python",
   "pygments_lexer": "ipython3",
   "version": "3.10.8"
  },
  "orig_nbformat": 4,
  "vscode": {
   "interpreter": {
    "hash": "8e50b9058b5434ef1429d368c699f499c11ef12b0a8b2e9e0820a734c6e545fb"
   }
  }
 },
 "nbformat": 4,
 "nbformat_minor": 2
}
