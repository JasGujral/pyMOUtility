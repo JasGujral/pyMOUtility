{
 "cells": [
  {
   "cell_type": "code",
   "execution_count": null,
   "metadata": {},
   "outputs": [
    {
     "ename": "",
     "evalue": "",
     "output_type": "error",
     "traceback": [
      "\u001b[1;31mFailed to start the Kernel. \n",
      "\u001b[1;31mJupyter server crashed. Unable to connect. \n",
      "\u001b[1;31mError code from Jupyter: 127\n",
      "\u001b[1;31mpyenv: jupyter-notebook: command not found\n",
      "\u001b[1;31m\n",
      "\u001b[1;31m\n",
      "\u001b[1;31mThe `jupyter-notebook' command exists in these Python versions:\n",
      "\u001b[1;31m\n",
      "\u001b[1;31m  3.10.5\n",
      "\u001b[1;31m\n",
      "\u001b[1;31m\n",
      "\u001b[1;31m\n",
      "\u001b[1;31mNote: See 'pyenv help global' for tips on allowing both\n",
      "\u001b[1;31m      python2 and python3 to be found. \n",
      "\u001b[1;31mView Jupyter <a href='command:jupyter.viewOutput'>log</a> for further details."
     ]
    }
   ],
   "source": [
    "from pyutility.decorators import debugger, timeit, FunctionCounter"
   ]
  },
  {
   "cell_type": "code",
   "execution_count": null,
   "metadata": {},
   "outputs": [],
   "source": []
  }
 ],
 "metadata": {
  "kernelspec": {
   "display_name": "Python 3",
   "language": "python",
   "name": "python3"
  },
  "language_info": {
   "name": "python",
   "version": "3.10.8"
  },
  "orig_nbformat": 4,
  "vscode": {
   "interpreter": {
    "hash": "b0fa6594d8f4cbf19f97940f81e996739fb7646882a419484c72d19e05852a7e"
   }
  }
 },
 "nbformat": 4,
 "nbformat_minor": 2
}
